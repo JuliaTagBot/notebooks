{
 "cells": [
  {
   "cell_type": "code",
   "execution_count": 1,
   "metadata": {},
   "outputs": [],
   "source": [
    "import numpy as np\n",
    "import scipy as sp\n",
    "import matplotlib as mpl\n",
    "import matplotlib.pyplot as plt\n",
    "import networkx as nx\n",
    "\n",
    "from pprint import pprint\n",
    "import random\n",
    "import asyncio as aio"
   ]
  },
  {
   "cell_type": "code",
   "execution_count": 2,
   "metadata": {},
   "outputs": [],
   "source": [
    "def run(f, value=None):\n",
    "    try:                       \n",
    "        f.send(value)\n",
    "    except StopIteration as e: \n",
    "        return e.value\n",
    "    finally:\n",
    "        return f\n",
    "\n",
    "async def draw_graph(g):\n",
    "    while True:\n",
    "        await aio.sleep(3)\n",
    "        nx.draw(g)"
   ]
  },
  {
   "cell_type": "code",
   "execution_count": 3,
   "metadata": {},
   "outputs": [],
   "source": [
    "class SignalGraphBase(nx.MultiDiGraph):\n",
    "    '''Signal Graph Base Type.'''\n",
    "    \n",
    "    def __init__(self, *args, **kwargs):\n",
    "        super().__init__(*args, **kwargs)\n",
    "        self._prng = random.Random()\n",
    "    \n",
    "    @staticmethod\n",
    "    def _action_dict(key, data):\n",
    "        if not data:\n",
    "            return dict()\n",
    "        return dict(key=key,weight=data['weight'], action=data['action'])\n",
    "    \n",
    "    @staticmethod\n",
    "    def _weight_sorted(iterable):\n",
    "        return sorted(iterable, key=lambda d: d['weight'], reverse=True)\n",
    "    \n",
    "    def edge_potential(self, source, target, key):\n",
    "        return self.__class__._action_dict(\n",
    "            key, \n",
    "            self.get_edge_data(source, target, key, default=None))\n",
    "    \n",
    "    def edge_potentials(self, source, target):\n",
    "        actions = []\n",
    "        for _, t, key, data in self.edges(source, keys=True, data=True):\n",
    "            if target == t:\n",
    "                actions.append(self.__class__._action_dict(key, data))\n",
    "        return self.__class__._weight_sorted(actions)\n",
    "    \n",
    "    @property\n",
    "    def random_generator(self):\n",
    "        return self._prng\n",
    "    \n",
    "    @random_generator.setter\n",
    "    def random_generator(self, value):\n",
    "        self._prng = value\n",
    "    \n",
    "    def node_sample(self, f, *, sample_size=None):\n",
    "        if sample_size is not None:    \n",
    "            sample_size = min(self.order(), sample_size) \n",
    "        else:\n",
    "            sample_size = self.order()\n",
    "        yield from map(f, ((n, self.nodes[n]) \n",
    "                           for n in self._prng.sample(self.nodes, sample_size)))\n",
    "    \n",
    "    def random_node(self, count=1):\n",
    "        while True:\n",
    "            yield from self._prng.sample(self.nodes, count)\n",
    "            "
   ]
  },
  {
   "cell_type": "code",
   "execution_count": 4,
   "metadata": {},
   "outputs": [],
   "source": [
    "class SourceGraph(nx.MultiDiGraph):\n",
    "    '''Source Graph Type.\n",
    "    \n",
    "    This is a graph which can receive signals from\n",
    "    an exterior source and update its nodes and edges\n",
    "    from them.\n",
    "    '''\n",
    "    \n",
    "    def __init__(self, *args, sources={}, source_key=id, **kwargs):\n",
    "        super().__init__(*args, **kwargs)\n",
    "        self.sources = sources\n",
    "        self._source_key_mapping = source_key\n",
    "    \n",
    "    @property\n",
    "    def source_key_mapping(self):\n",
    "        return self._source_key_mapping\n",
    "    \n",
    "    @source_key_mapping.setter\n",
    "    def source_key_mapping(self, mapping):\n",
    "        self._source_key_mapping = mapping\n",
    "        new_sources = {}\n",
    "        for _, v in self.sources.items():\n",
    "            new_sources[self._source_key(v)] = v\n",
    "        self.sources = new_sources\n",
    "    \n",
    "    def add_source(self, source):\n",
    "        self.sources[self._source_key_mapping(source)] = source\n",
    "    \n",
    "    def add_sources(self, source, *sources):\n",
    "        add_source(source)\n",
    "        for s in sources:\n",
    "            add_source(s)\n",
    "    \n",
    "    def remove_source(self, source_id):\n",
    "        del self.sources[source_id]\n",
    "    \n",
    "    def remove_sources(self, source_id, *source_ids):\n",
    "        remove_source(source_id)\n",
    "        for s in source_ids:\n",
    "            remove_source(s)\n",
    "    \n",
    "    def clear_sources(self):\n",
    "        self.sources = {}\n"
   ]
  },
  {
   "cell_type": "code",
   "execution_count": 9,
   "metadata": {},
   "outputs": [
    {
     "name": "stdout",
     "output_type": "stream",
     "text": [
      "[{'action': <function action2 at 0x119427400>, 'key': 2, 'weight': 0.6},\n",
      " {'action': <function action1 at 0x119427730>, 'key': 1, 'weight': 0.3},\n",
      " {'action': <function action3 at 0x119427488>, 'key': 3, 'weight': 0.3}]\n",
      "(1, {'weight': 0.3, 'state': {'memory': []}})\n",
      "(2, {'weight': 0.1, 'state': {'memory': []}})\n"
     ]
    },
    {
     "data": {
      "text/plain": [
       "<coroutine object draw_graph at 0x119424d48>"
      ]
     },
     "execution_count": 9,
     "metadata": {},
     "output_type": "execute_result"
    }
   ],
   "source": [
    "g1 = SignalGraphBase()\n",
    "\n",
    "async def action1():\n",
    "    print('action1!')\n",
    "\n",
    "async def action2():\n",
    "    print('action2!')\n",
    "    \n",
    "async def action3():\n",
    "    print('action3!')\n",
    "    \n",
    "async def sample_action(weight, source, target, source_weight, target_weight):\n",
    "    while True:\n",
    "        st_ratio = source_weight / target_weight\n",
    "        source['memory'].append(weight + target_weight)\n",
    "        target['memory'] = [unit * st_ratio for unit in source['memory']]\n",
    "        await aio.sleep(0)\n",
    "\n",
    "g1.add_node(1, weight=0.3, state=dict(memory=[]))\n",
    "g1.add_node(2, weight=0.1, state=dict(memory=[]))\n",
    "g1.add_edge(1, 2, key=1, weight=0.3, action=action1)\n",
    "g1.add_edge(1, 2, key=1, weight=0.3, action=action1)\n",
    "g1.add_edge(1, 2, key=2, weight=0.6, action=action2)\n",
    "g1.add_edge(1, 2, key=3, weight=0.3, action=action3)\n",
    "g1.add_edge(1, 1, key='a', weight=1, action=action1)\n",
    "pprint(g1.edge_potentials(1, 2))\n",
    "for n in g1.node_sample(print):\n",
    "    pass\n",
    "\n",
    "draw_graph(g1)"
   ]
  },
  {
   "cell_type": "code",
   "execution_count": null,
   "metadata": {},
   "outputs": [],
   "source": []
  },
  {
   "cell_type": "code",
   "execution_count": null,
   "metadata": {},
   "outputs": [],
   "source": []
  }
 ],
 "metadata": {
  "kernelspec": {
   "display_name": "Python 3",
   "language": "python",
   "name": "python3"
  },
  "language_info": {
   "codemirror_mode": {
    "name": "ipython",
    "version": 3
   },
   "file_extension": ".py",
   "mimetype": "text/x-python",
   "name": "python",
   "nbconvert_exporter": "python",
   "pygments_lexer": "ipython3",
   "version": "3.7.1"
  }
 },
 "nbformat": 4,
 "nbformat_minor": 2
}
